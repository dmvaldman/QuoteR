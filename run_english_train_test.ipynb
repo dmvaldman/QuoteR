{
 "cells": [
  {
   "cell_type": "code",
   "execution_count": 2,
   "metadata": {
    "colab": {
     "base_uri": "https://localhost:8080/"
    },
    "id": "WUXbjv6aHuBx",
    "outputId": "d0b42dcd-1087-4ed2-b67d-294b7665c458"
   },
   "outputs": [
    {
     "name": "stdout",
     "output_type": "stream",
     "text": [
      "Cloning into 'QuoteR'...\n",
      "remote: Enumerating objects: 61, done.\u001b[K\n",
      "remote: Counting objects: 100% (33/33), done.\u001b[K\n",
      "remote: Compressing objects: 100% (32/32), done.\u001b[K\n",
      "remote: Total 61 (delta 19), reused 4 (delta 1), pack-reused 28\u001b[K\n",
      "Unpacking objects: 100% (61/61), done.\n"
     ]
    }
   ],
   "source": [
    "!git clone https://github.com/thunlp/QuoteR.git"
   ]
  },
  {
   "cell_type": "code",
   "execution_count": 3,
   "metadata": {
    "colab": {
     "base_uri": "https://localhost:8080/"
    },
    "id": "-hleyGcNHySb",
    "outputId": "1ea17e43-fab1-4185-c946-4649127ad593"
   },
   "outputs": [
    {
     "name": "stdout",
     "output_type": "stream",
     "text": [
      "Requirement already satisfied: transformers==3.0.2 in /opt/conda/lib/python3.7/site-packages (3.0.2)\n",
      "Requirement already satisfied: nltk==3.5 in /opt/conda/lib/python3.7/site-packages (3.5)\n",
      "Requirement already satisfied: numpy==1.19.5 in /opt/conda/lib/python3.7/site-packages (1.19.5)\n",
      "Requirement already satisfied: sklearn==0.0 in /opt/conda/lib/python3.7/site-packages (0.0)\n",
      "Requirement already satisfied: torch==1.7.1 in /opt/conda/lib/python3.7/site-packages (1.7.1)\n",
      "Requirement already satisfied: OpenHowNet==0.0.1a11 in /opt/conda/lib/python3.7/site-packages (0.0.1a11)\n",
      "Requirement already satisfied: tokenizers==0.8.1.rc1 in /opt/conda/lib/python3.7/site-packages (from transformers==3.0.2) (0.8.1rc1)\n",
      "Requirement already satisfied: tqdm>=4.27 in /opt/conda/lib/python3.7/site-packages (from transformers==3.0.2) (4.63.0)\n",
      "Requirement already satisfied: regex!=2019.12.17 in /opt/conda/lib/python3.7/site-packages (from transformers==3.0.2) (2022.10.31)\n",
      "Requirement already satisfied: sacremoses in /opt/conda/lib/python3.7/site-packages (from transformers==3.0.2) (0.0.53)\n",
      "Requirement already satisfied: filelock in /opt/conda/lib/python3.7/site-packages (from transformers==3.0.2) (3.6.0)\n",
      "Requirement already satisfied: packaging in /opt/conda/lib/python3.7/site-packages (from transformers==3.0.2) (21.3)\n",
      "Requirement already satisfied: sentencepiece!=0.1.92 in /opt/conda/lib/python3.7/site-packages (from transformers==3.0.2) (0.1.97)\n",
      "Requirement already satisfied: requests in /opt/conda/lib/python3.7/site-packages (from transformers==3.0.2) (2.27.1)\n",
      "Requirement already satisfied: click in /opt/conda/lib/python3.7/site-packages (from nltk==3.5) (8.1.3)\n",
      "Requirement already satisfied: joblib in /opt/conda/lib/python3.7/site-packages (from nltk==3.5) (1.2.0)\n",
      "Requirement already satisfied: scikit-learn in /opt/conda/lib/python3.7/site-packages (from sklearn==0.0) (1.0.2)\n",
      "Requirement already satisfied: typing-extensions in /opt/conda/lib/python3.7/site-packages (from torch==1.7.1) (4.1.1)\n",
      "Requirement already satisfied: anytree in /opt/conda/lib/python3.7/site-packages (from OpenHowNet==0.0.1a11) (2.8.0)\n",
      "Requirement already satisfied: six>=1.9.0 in /opt/conda/lib/python3.7/site-packages (from anytree->OpenHowNet==0.0.1a11) (1.16.0)\n",
      "Requirement already satisfied: importlib-metadata in /opt/conda/lib/python3.7/site-packages (from click->nltk==3.5) (4.12.0)\n",
      "Requirement already satisfied: zipp>=0.5 in /opt/conda/lib/python3.7/site-packages (from importlib-metadata->click->nltk==3.5) (3.8.1)\n",
      "Requirement already satisfied: pyparsing!=3.0.5,>=2.0.2 in /opt/conda/lib/python3.7/site-packages (from packaging->transformers==3.0.2) (3.0.9)\n",
      "Requirement already satisfied: certifi>=2017.4.17 in /opt/conda/lib/python3.7/site-packages (from requests->transformers==3.0.2) (2022.6.15)\n",
      "Requirement already satisfied: charset-normalizer~=2.0.0 in /opt/conda/lib/python3.7/site-packages (from requests->transformers==3.0.2) (2.0.4)\n",
      "Requirement already satisfied: urllib3<1.27,>=1.21.1 in /opt/conda/lib/python3.7/site-packages (from requests->transformers==3.0.2) (1.26.8)\n",
      "Requirement already satisfied: idna<4,>=2.5 in /opt/conda/lib/python3.7/site-packages (from requests->transformers==3.0.2) (3.3)\n",
      "Requirement already satisfied: threadpoolctl>=2.0.0 in /opt/conda/lib/python3.7/site-packages (from scikit-learn->sklearn==0.0) (3.1.0)\n",
      "Requirement already satisfied: scipy>=1.1.0 in /opt/conda/lib/python3.7/site-packages (from scikit-learn->sklearn==0.0) (1.7.3)\n",
      "\u001b[33mWARNING: Running pip as the 'root' user can result in broken permissions and conflicting behaviour with the system package manager. It is recommended to use a virtual environment instead: https://pip.pypa.io/warnings/venv\u001b[0m\n"
     ]
    }
   ],
   "source": [
    "!pip install transformers==3.0.2 nltk==3.5 numpy==1.19.5 sklearn==0.0 OpenHowNet==0.0.1a11\n",
    "!pip install torch==1.9.0+cu111 torchvision==0.10.0+cu111 torchaudio==0.9.0 -f https://download.pytorch.org/whl/torch_stable.html"
   ]
  },
  {
   "cell_type": "code",
   "execution_count": 4,
   "metadata": {},
   "outputs": [],
   "source": [
    "# Get paths for transformers and QuoteR\n",
    "from subprocess import PIPE, run\n",
    "\n",
    "result = run(\"pip show transformers | grep Location | awk '{print $2}'\", stdout=PIPE, stderr=PIPE, universal_newlines=True, shell=True)\n",
    "xformer_path = result.stdout.strip() + \"/transformers\"\n",
    "quoter_path = \"QuoteR\""
   ]
  },
  {
   "cell_type": "code",
   "execution_count": 5,
   "metadata": {
    "id": "LRigff0tSk6c"
   },
   "outputs": [],
   "source": [
    "# File manipulation so that HF transformers can load SememeModels\n",
    "!sed -i '9i \\        import numpy as np' $quoter_path/bert_english_sememe.py\n",
    "!sed -i $quoter_path/bert_english_sememe.py -e '1,3d'\n",
    "!cat $quoter_path/bert_english_sememe.py >> $xformer_path/modeling_bert.py\n",
    "!echo \"from .modeling_bert import SememeEmbeddings, BertSememeModel, BertSememeEmbeddings\" >> $xformer_path/__init__.py"
   ]
  },
  {
   "cell_type": "code",
   "execution_count": 9,
   "metadata": {
    "colab": {
     "base_uri": "https://localhost:8080/"
    },
    "id": "32AXCBvPLkaE",
    "outputId": "7897a0bd-edb5-4174-b0fc-104ee8eab4d6"
   },
   "outputs": [
    {
     "name": "stderr",
     "output_type": "stream",
     "text": [
      "[nltk_data] Downloading package punkt to /root/nltk_data...\n",
      "[nltk_data]   Package punkt is already up-to-date!\n"
     ]
    },
    {
     "data": {
      "text/plain": [
       "True"
      ]
     },
     "execution_count": 9,
     "metadata": {},
     "output_type": "execute_result"
    }
   ],
   "source": [
    "# Download sememe embeddings and nltk data\n",
    "import nltk\n",
    "import OpenHowNet\n",
    "\n",
    "nltk.download('punkt')\n",
    "OpenHowNet.download()"
   ]
  },
  {
   "cell_type": "code",
   "execution_count": 12,
   "metadata": {},
   "outputs": [
    {
     "name": "stdout",
     "output_type": "stream",
     "text": [
      "/workspace/QuoteR\n"
     ]
    }
   ],
   "source": [
    "%cd $quoter_path"
   ]
  },
  {
   "cell_type": "code",
   "execution_count": 13,
   "metadata": {
    "colab": {
     "base_uri": "https://localhost:8080/"
    },
    "id": "6YAqwXPnKNms",
    "outputId": "b20b345a-5f24-4b8c-ff60-c18028bb617a"
   },
   "outputs": [
    {
     "name": "stdout",
     "output_type": "stream",
     "text": [
      "all word ids:  torch.Size([6108, 80])\n",
      "all input ids:  torch.Size([6108, 80])\n"
     ]
    }
   ],
   "source": [
    "!python english_word_sememe.py"
   ]
  },
  {
   "cell_type": "code",
   "execution_count": null,
   "metadata": {
    "colab": {
     "base_uri": "https://localhost:8080/"
    },
    "id": "-ED0pCaqLUVT",
    "outputId": "09a5cbf4-4d57-401e-a8a1-438b07399759"
   },
   "outputs": [
    {
     "name": "stdout",
     "output_type": "stream",
     "text": [
      "loading dataset......\n",
      "tran  valid  test: 101171 12771 12771\n",
      "all quotes:  6108\n",
      "train quote: 6008\n",
      "valid quote: 6108\n",
      "test quote: 6108\n",
      "loading train and valid data......\n",
      "train bert input:\n",
      "torch.Size([101171, 150]) torch.Size([101171, 150]) torch.Size([101171, 150]) torch.Size([101171])\n",
      "valid bert input:\n",
      "torch.Size([12771, 150]) torch.Size([12771, 150]) torch.Size([12771, 150]) torch.Size([12771])\n",
      "loading train and valid dataloader ...\n",
      "loading model......\n",
      "Some weights of BertSememeModel were not initialized from the model checkpoint at bert-base-uncased and are newly initialized: ['bert.embeddings.sememe_embeddings.lut.weight']\n",
      "You should probably TRAIN this model on a down-stream task to be able to use it for predictions and inference.\n",
      "\n",
      "start training, parameter total:220313088, trainable:220313088\n",
      "\n",
      "epoch:  1\n",
      "Train | Loss:10628.01313 Acc:0.739\n",
      "Valid | Loss:1026.21519 Acc:0.799\n",
      "saving model with Acc 0.799 \n",
      "epoch running time:5972s\n",
      "epoch:  2\n",
      "Train | Loss:5573.67846 Acc:0.857\n",
      "Valid | Loss:921.30014 Acc:0.824\n",
      "saving model with Acc 0.824 \n",
      "epoch running time:5842s\n",
      "epoch:  3\n",
      "Train | Loss:3950.84322 Acc:0.896\n",
      "Valid | Loss:940.70248 Acc:0.831\n",
      "saving model with Acc 0.831 \n",
      "epoch running time:5823s\n",
      "epoch:  4\n",
      "Train | Loss:3118.48970 Acc:0.918\n",
      "Valid | Loss:883.86562 Acc:0.836\n",
      "saving model with Acc 0.836 \n",
      "epoch running time:5842s\n",
      "epoch:  5\n",
      "Train | Loss:2666.26921 Acc:0.929\n",
      "Valid | Loss:881.88175 Acc:0.843\n",
      "saving model with Acc 0.843 \n",
      "epoch running time:5876s\n",
      "epoch:  6\n"
     ]
    }
   ],
   "source": [
    "!python english_train_test.py"
   ]
  },
  {
   "cell_type": "code",
   "execution_count": null,
   "metadata": {},
   "outputs": [],
   "source": []
  }
 ],
 "metadata": {
  "accelerator": "GPU",
  "colab": {
   "provenance": []
  },
  "gpuClass": "standard",
  "kernelspec": {
   "display_name": "Python 3.9.12 64-bit",
   "language": "python",
   "name": "python3"
  },
  "language_info": {
   "codemirror_mode": {
    "name": "ipython",
    "version": 3
   },
   "file_extension": ".py",
   "mimetype": "text/x-python",
   "name": "python",
   "nbconvert_exporter": "python",
   "pygments_lexer": "ipython3",
   "version": "3.9.12"
  },
  "vscode": {
   "interpreter": {
    "hash": "aee8b7b246df8f9039afb4144a1f6fd8d2ca17a180786b69acc140d282b71a49"
   }
  }
 },
 "nbformat": 4,
 "nbformat_minor": 4
}
